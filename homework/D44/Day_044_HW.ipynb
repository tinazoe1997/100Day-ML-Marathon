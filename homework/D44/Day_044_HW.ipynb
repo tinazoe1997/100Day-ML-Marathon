{
 "cells": [
  {
   "cell_type": "markdown",
   "metadata": {},
   "source": [
    "## [作業重點]\n",
    "確保你了解隨機森林模型中每個超參數的意義，並觀察調整超參數對結果的影響"
   ]
  },
  {
   "cell_type": "markdown",
   "metadata": {},
   "source": [
    "## 作業\n",
    "\n",
    "1. 試著調整 RandomForestClassifier(...) 中的參數，並觀察是否會改變結果？\n",
    "2. 改用其他資料集 (boston, wine)，並與回歸模型與決策樹的結果進行比較"
   ]
  },
  {
   "cell_type": "code",
   "execution_count": 2,
   "metadata": {},
   "outputs": [],
   "source": [
    "from sklearn import datasets, metrics\n",
    "from sklearn.ensemble import RandomForestClassifier, RandomForestRegressor\n",
    "from sklearn.model_selection import train_test_split"
   ]
  },
  {
   "cell_type": "code",
   "execution_count": 15,
   "metadata": {},
   "outputs": [],
   "source": [
    "def build_test_model(data, q):\n",
    "    x_train, x_test, y_train, y_test = train_test_split(data.data, data.target, test_size=0.25, random_state=4)\n",
    "    \n",
    "    if(q == 'cls'):\n",
    "        # 建立模型 (使用 20 顆樹，每棵樹的最大深度為 4)\n",
    "        clf = RandomForestClassifier(n_estimators=30, criterion='entropy')\n",
    "        clf.fit(x_train, y_train)\n",
    "        y_pred = clf.predict(x_test)\n",
    "        score = metrics.accuracy_score(y_test, y_pred)\n",
    "    else:\n",
    "        clf = RandomForestRegressor(n_estimators=20, criterion='mse')\n",
    "        clf.fit(x_train, y_train)\n",
    "        y_pred = clf.predict(x_test)\n",
    "        score = metrics.r2_score(y_test, y_pred)\n",
    "    \n",
    "    print(\"Score: \", score)\n",
    "    print(data.feature_names)\n",
    "    print(\"Feature importance: \", clf.feature_importances_)\n"
   ]
  },
  {
   "cell_type": "code",
   "execution_count": 16,
   "metadata": {},
   "outputs": [
    {
     "name": "stdout",
     "output_type": "stream",
     "text": [
      "Score:  0.9473684210526315\n",
      "['sepal length (cm)', 'sepal width (cm)', 'petal length (cm)', 'petal width (cm)']\n",
      "Feature importance:  [0.12571423 0.03795161 0.42997239 0.40636177]\n"
     ]
    }
   ],
   "source": [
    "# 讀取鳶尾花資料集\n",
    "iris = datasets.load_iris()\n",
    "build_test_model(iris, 'cls')"
   ]
  },
  {
   "cell_type": "code",
   "execution_count": 19,
   "metadata": {},
   "outputs": [
    {
     "name": "stdout",
     "output_type": "stream",
     "text": [
      "Score:  0.87957486215514\n",
      "['CRIM' 'ZN' 'INDUS' 'CHAS' 'NOX' 'RM' 'AGE' 'DIS' 'RAD' 'TAX' 'PTRATIO'\n",
      " 'B' 'LSTAT']\n",
      "Feature importance:  [0.04553279 0.00069777 0.00668239 0.00127332 0.0122624  0.39495226\n",
      " 0.01633206 0.05345635 0.00515308 0.01925116 0.0147622  0.01088886\n",
      " 0.41875537]\n"
     ]
    }
   ],
   "source": [
    "boston = datasets.load_boston()\n",
    "build_test_model(boston, 'reg')"
   ]
  },
  {
   "cell_type": "code",
   "execution_count": 18,
   "metadata": {},
   "outputs": [
    {
     "name": "stdout",
     "output_type": "stream",
     "text": [
      "Score:  0.9777777777777777\n",
      "['alcohol', 'malic_acid', 'ash', 'alcalinity_of_ash', 'magnesium', 'total_phenols', 'flavanoids', 'nonflavanoid_phenols', 'proanthocyanins', 'color_intensity', 'hue', 'od280/od315_of_diluted_wines', 'proline']\n",
      "Feature importance:  [0.11021606 0.00833373 0.01875711 0.01850542 0.0216214  0.05461295\n",
      " 0.15204282 0.0062885  0.00739625 0.1635017  0.07687709 0.14596012\n",
      " 0.21588686]\n"
     ]
    }
   ],
   "source": [
    "wine = datasets.load_wine()\n",
    "build_test_model(wine, 'cls')"
   ]
  },
  {
   "cell_type": "code",
   "execution_count": null,
   "metadata": {},
   "outputs": [],
   "source": []
  }
 ],
 "metadata": {
  "kernelspec": {
   "display_name": "Python 3",
   "language": "python",
   "name": "python3"
  },
  "language_info": {
   "codemirror_mode": {
    "name": "ipython",
    "version": 3
   },
   "file_extension": ".py",
   "mimetype": "text/x-python",
   "name": "python",
   "nbconvert_exporter": "python",
   "pygments_lexer": "ipython3",
   "version": "3.7.3"
  }
 },
 "nbformat": 4,
 "nbformat_minor": 2
}
