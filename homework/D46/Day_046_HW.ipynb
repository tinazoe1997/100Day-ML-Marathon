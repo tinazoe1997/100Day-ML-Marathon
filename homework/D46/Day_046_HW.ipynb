{
 "cells": [
  {
   "cell_type": "markdown",
   "metadata": {},
   "source": [
    "### 作業\n",
    "目前已經學過許多的模型，相信大家對整體流程應該比較掌握了，這次作業請改用**手寫辨識資料集**，步驟流程都是一樣的，請試著自己撰寫程式碼來完成所有步驟"
   ]
  },
  {
   "cell_type": "code",
   "execution_count": 13,
   "metadata": {},
   "outputs": [],
   "source": [
    "from sklearn import datasets, metrics\n",
    "from sklearn.model_selection import train_test_split\n",
    "from sklearn.linear_model import LogisticRegression\n",
    "from sklearn.tree import DecisionTreeClassifier\n",
    "from sklearn.ensemble import RandomForestClassifier, GradientBoostingClassifier\n",
    "\n",
    "import warnings\n",
    "warnings.filterwarnings('ignore')"
   ]
  },
  {
   "cell_type": "code",
   "execution_count": 14,
   "metadata": {},
   "outputs": [],
   "source": [
    "#load dataset\n",
    "digits = datasets.load_digits()\n",
    "\n",
    "#check target type\n",
    "digits.target_names\n",
    "\n",
    "#split data\n",
    "x_train, x_test, y_train, y_test = train_test_split(digits.data, digits.target, test_size = 0.25)"
   ]
  },
  {
   "cell_type": "code",
   "execution_count": 15,
   "metadata": {},
   "outputs": [],
   "source": [
    "def model_train_pred(clf, q):\n",
    "    print(q)\n",
    "    #training\n",
    "    clf.fit(x_train, y_train)\n",
    "    #pred\n",
    "    y_pred = clf.predict(x_test)\n",
    "    #evaluate\n",
    "    acc = metrics.accuracy_score(y_test, y_pred)\n",
    "    print(\"Acc : \", acc)"
   ]
  },
  {
   "cell_type": "code",
   "execution_count": 16,
   "metadata": {},
   "outputs": [
    {
     "name": "stdout",
     "output_type": "stream",
     "text": [
      "LogisticRegression : \n",
      "Acc :  0.96\n",
      "======================\n",
      "Decision Tree : \n",
      "Acc :  0.8888888888888888\n",
      "======================\n",
      "Random Forist : \n",
      "Acc :  0.9644444444444444\n",
      "======================\n",
      "Gradient Boosting : \n",
      "Acc :  0.9644444444444444\n"
     ]
    }
   ],
   "source": [
    "#LogisticRegression\n",
    "clf = LogisticRegression()\n",
    "model_train_pred(clf, 'LogisticRegression : ')\n",
    "print(\"======================\")\n",
    "\n",
    "#Decision Tree\n",
    "clf = DecisionTreeClassifier(criterion='entropy', max_depth=None, min_samples_split=2, min_samples_leaf=1,)\n",
    "model_train_pred(clf, 'Decision Tree : ')\n",
    "print(\"======================\")\n",
    "\n",
    "#Bagging Random Forist\n",
    "clf = RandomForestClassifier(n_estimators=30, criterion='entropy')\n",
    "model_train_pred(clf, 'Random Forist : ')\n",
    "print(\"======================\")\n",
    "\n",
    "#Gradient Boosting\n",
    "clf = GradientBoostingClassifier()\n",
    "model_train_pred(clf, 'Gradient Boosting : ')\n"
   ]
  },
  {
   "cell_type": "code",
   "execution_count": null,
   "metadata": {},
   "outputs": [],
   "source": []
  }
 ],
 "metadata": {
  "kernelspec": {
   "display_name": "Python 3",
   "language": "python",
   "name": "python3"
  },
  "language_info": {
   "codemirror_mode": {
    "name": "ipython",
    "version": 3
   },
   "file_extension": ".py",
   "mimetype": "text/x-python",
   "name": "python",
   "nbconvert_exporter": "python",
   "pygments_lexer": "ipython3",
   "version": "3.7.3"
  }
 },
 "nbformat": 4,
 "nbformat_minor": 2
}
