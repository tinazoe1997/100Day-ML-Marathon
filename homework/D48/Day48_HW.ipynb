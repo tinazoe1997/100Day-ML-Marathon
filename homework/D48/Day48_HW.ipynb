{
 "cells": [
  {
   "cell_type": "code",
   "execution_count": 1,
   "metadata": {},
   "outputs": [],
   "source": [
    "import numpy as np\n",
    "import pandas as pd\n",
    "from sklearn.model_selection import train_test_split\n",
    "from sklearn.ensemble import RandomForestClassifier\n",
    "from sklearn import metrics\n",
    "\n",
    "import warnings\n",
    "warnings.filterwarnings('ignore')"
   ]
  },
  {
   "cell_type": "code",
   "execution_count": 2,
   "metadata": {},
   "outputs": [
    {
     "name": "stdout",
     "output_type": "stream",
     "text": [
      "(950, 40) (950, 1)\n"
     ]
    }
   ],
   "source": [
    "# load datasets\n",
    "train_data = pd.read_csv('train.csv', header=None)\n",
    "train_label = pd.read_csv('trainLabels.csv', header=None)\n",
    "x_test = pd.read_csv('test.csv', header=None)\n",
    "\n",
    "data = np.asarray(pd.DataFrame(train_data))\n",
    "label = np.asarray(pd.DataFrame(train_label))\n",
    "x_test = np.asarray(pd.DataFrame(x_test))\n",
    "\n",
    "# 切分訓練集/測試集\n",
    "x_train, x_val, y_train, y_val = train_test_split(data, label, test_size=0.05, random_state=42)\n",
    "print(x_train.shape, y_train.shape)"
   ]
  },
  {
   "cell_type": "code",
   "execution_count": 3,
   "metadata": {},
   "outputs": [
    {
     "name": "stdout",
     "output_type": "stream",
     "text": [
      "1.0\n",
      "0.94\n"
     ]
    }
   ],
   "source": [
    "rf = RandomForestClassifier(n_estimators = 100)\n",
    "rf.fit(x_train, y_train)\n",
    "\n",
    "pred = rf.predict(x_train)\n",
    "print(metrics.accuracy_score(pred, y_train))\n",
    "\n",
    "pred_val = rf.predict(x_val)\n",
    "print(metrics.accuracy_score(pred_val, y_val))"
   ]
  },
  {
   "cell_type": "code",
   "execution_count": 7,
   "metadata": {},
   "outputs": [
    {
     "name": "stdout",
     "output_type": "stream",
     "text": [
      "(9000,) (9000,)\n"
     ]
    }
   ],
   "source": [
    "#to csv\n",
    "result = rf.predict(x_test)\n",
    "id = np.array([i for i in range(1, len(result)+1)])\n",
    "pd.DataFrame({'Id': id, 'Solution':result}).to_csv('result.csv', index=False)"
   ]
  },
  {
   "cell_type": "code",
   "execution_count": null,
   "metadata": {},
   "outputs": [],
   "source": []
  }
 ],
 "metadata": {
  "kernelspec": {
   "display_name": "Python 3",
   "language": "python",
   "name": "python3"
  },
  "language_info": {
   "codemirror_mode": {
    "name": "ipython",
    "version": 3
   },
   "file_extension": ".py",
   "mimetype": "text/x-python",
   "name": "python",
   "nbconvert_exporter": "python",
   "pygments_lexer": "ipython3",
   "version": "3.7.3"
  }
 },
 "nbformat": 4,
 "nbformat_minor": 2
}
